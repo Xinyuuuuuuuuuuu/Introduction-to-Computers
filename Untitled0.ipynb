{
  "nbformat": 4,
  "nbformat_minor": 0,
  "metadata": {
    "colab": {
      "name": "Untitled0.ipynb",
      "provenance": [],
      "authorship_tag": "ABX9TyMt95041usPMB98P+hn9PSG",
      "include_colab_link": true
    },
    "kernelspec": {
      "name": "python3",
      "display_name": "Python 3"
    },
    "language_info": {
      "name": "python"
    }
  },
  "cells": [
    {
      "cell_type": "markdown",
      "metadata": {
        "id": "view-in-github",
        "colab_type": "text"
      },
      "source": [
        "<a href=\"https://colab.research.google.com/github/Xinyuuuuuuuuuuu/Introduction-to-Computers/blob/main/Untitled0.ipynb\" target=\"_parent\"><img src=\"https://colab.research.google.com/assets/colab-badge.svg\" alt=\"Open In Colab\"/></a>"
      ]
    },
    {
      "cell_type": "code",
      "execution_count": 1,
      "metadata": {
        "id": "V7S2T-qVEa_F"
      },
      "outputs": [],
      "source": [
        "password=72"
      ]
    },
    {
      "cell_type": "code",
      "source": [
        "enter=int(input(\"請猜數字:\"))"
      ],
      "metadata": {
        "colab": {
          "base_uri": "https://localhost:8080/"
        },
        "id": "zwLMqeSlE3L7",
        "outputId": "7b0a4cf0-6617-48b1-80fc-64ded33bdce4"
      },
      "execution_count": 5,
      "outputs": [
        {
          "name": "stdout",
          "output_type": "stream",
          "text": [
            "請猜數字:72\n"
          ]
        }
      ]
    },
    {
      "cell_type": "code",
      "source": [
        "while enter!=password:print(\"猜錯了！\")"
      ],
      "metadata": {
        "id": "BeV_M9piFfY7"
      },
      "execution_count": 14,
      "outputs": []
    },
    {
      "cell_type": "code",
      "source": [
        "if enter>password:print(\"太大了！\")\n",
        "else:\n",
        "  print(\"太小了！\")"
      ],
      "metadata": {
        "colab": {
          "base_uri": "https://localhost:8080/"
        },
        "id": "fgVIZ0m_Fxlg",
        "outputId": "e00fecd0-ce0b-4e17-8450-0a2692561d82"
      },
      "execution_count": 15,
      "outputs": [
        {
          "output_type": "stream",
          "name": "stdout",
          "text": [
            "太小了！\n"
          ]
        }
      ]
    },
    {
      "cell_type": "code",
      "source": [
        "enter=int(input(\"請猜數字：\"))\n",
        "print(\"猜對了！\")"
      ],
      "metadata": {
        "id": "l8nWm0MQG6vS"
      },
      "execution_count": null,
      "outputs": []
    }
  ]
}