{
  "nbformat": 4,
  "nbformat_minor": 0,
  "metadata": {
    "colab": {
      "name": "Untitled2.ipynb",
      "provenance": [],
      "authorship_tag": "ABX9TyOKl0ROCiIxSC0oSQ95oj/G",
      "include_colab_link": true
    },
    "kernelspec": {
      "name": "python3",
      "display_name": "Python 3"
    },
    "language_info": {
      "name": "python"
    }
  },
  "cells": [
    {
      "cell_type": "markdown",
      "metadata": {
        "id": "view-in-github",
        "colab_type": "text"
      },
      "source": [
        "<a href=\"https://colab.research.google.com/github/Xinyuuuuuuuuuuu/Introduction-to-Computers/blob/main/Untitled2.ipynb\" target=\"_parent\"><img src=\"https://colab.research.google.com/assets/colab-badge.svg\" alt=\"Open In Colab\"/></a>"
      ]
    },
    {
      "cell_type": "code",
      "source": [
        "print(\"123\")"
      ],
      "metadata": {
        "colab": {
          "base_uri": "https://localhost:8080/"
        },
        "id": "BiQDUE70Dd3a",
        "outputId": "fcd993ec-7cbc-42dc-ab86-552037749c7d"
      },
      "execution_count": 2,
      "outputs": [
        {
          "output_type": "stream",
          "name": "stdout",
          "text": [
            "123\n"
          ]
        }
      ]
    },
    {
      "cell_type": "code",
      "execution_count": 1,
      "metadata": {
        "colab": {
          "base_uri": "https://localhost:8080/"
        },
        "id": "p-0Hr8N1BcvN",
        "outputId": "a2754a6e-cd6a-4652-dc31-2a5f7539e66e"
      },
      "outputs": [
        {
          "output_type": "stream",
          "name": "stdout",
          "text": [
            "請輸入你的體溫33.9\n",
            "體溫異常，請重新量測！\n"
          ]
        }
      ],
      "source": [
        "temp=float(input(\"請輸入你的體溫\"))\n",
        "if(temp>=37.5):\n",
        "  print(\"體溫過高！\")\n",
        "elif(temp>=37 and temp<37.4):\n",
        "  print(\"體溫略高！\")\n",
        "elif(temp>34 and temp<=36.5):\n",
        "  print(\"體溫正常！\")\n",
        "else:\n",
        "  print(\"體溫異常，請重新量測！\")"
      ]
    },
    {
      "cell_type": "code",
      "source": [
        "money=int(input(\"請輸入購物金額：\"))\n",
        "if(money>=10000):\n",
        "  if(money>=100000):\n",
        "    print(\"八折\",money*0.8,end=\"元\\n\")\n",
        "  elif(money>=50000):\n",
        "    print(\"八五折\",money*0.85,end=\"元\\n\")\n",
        "  elif(money>=30000):\n",
        "    print(\"九折\",money*0.9,end=\"元\\n\")\n",
        "  else:\n",
        "    print(\"九五折\",money*0.95,end=\"元\\n\")\n",
        "else:\n",
        "  print(\"沒打折\",money,end=\"元\\n\")\n",
        "\n"
      ],
      "metadata": {
        "colab": {
          "base_uri": "https://localhost:8080/"
        },
        "id": "bVk0InWjDkmm",
        "outputId": "f40ed783-7e5e-46e8-f520-3065e7f757c1"
      },
      "execution_count": 4,
      "outputs": [
        {
          "output_type": "stream",
          "name": "stdout",
          "text": [
            "請輸入購物金額：1200000\n",
            "八折 960000.0元\n"
          ]
        }
      ]
    },
    {
      "cell_type": "code",
      "source": [
        "成績=input('請輸入成績')\n",
        "if(int(成績)>=90):\n",
        "  print('A')\n",
        "elif(int(成績)>=80):\n",
        "  print('B')\n",
        "elif(int(成績)>=70):\n",
        "  print('C')\n",
        "elif(int(成績)>=60):\n",
        "  print('D')\n",
        "else:\n",
        "  print('E')"
      ],
      "metadata": {
        "colab": {
          "base_uri": "https://localhost:8080/"
        },
        "id": "w9y34yEmG42V",
        "outputId": "5cb50ec8-39dd-4e32-9dff-3dc20e1011b6"
      },
      "execution_count": 5,
      "outputs": [
        {
          "output_type": "stream",
          "name": "stdout",
          "text": [
            "請輸入成績50\n",
            "E\n"
          ]
        }
      ]
    },
    {
      "cell_type": "code",
      "source": [
        "月份=int(input(\"請輸入月份\"))\n",
        "if(月份>=3 and 月份<=5):\n",
        "  print(月份,\"月是春天！\")\n",
        "elif(月份>=6 and 月份<=8):\n",
        "  print(月份,\"月是夏天！\")\n",
        "elif(月份>=9 and 月份<=11):\n",
        "  print(月份,\"月是秋天！\")\n",
        "elif(月份>11 and 月份<13):\n",
        "  print(月份,\"月是冬天！\")\n",
        "elif(月份>0 and 月份<3):\n",
        "  print(月份,\"月是冬天！\")\n",
        "else:\n",
        "  print(\"月份不在範圍內！\")"
      ],
      "metadata": {
        "colab": {
          "base_uri": "https://localhost:8080/"
        },
        "id": "j8FG0Jm-Kh9N",
        "outputId": "3cb49a93-9bb3-4f09-b37d-40dc5db09cce"
      },
      "execution_count": 7,
      "outputs": [
        {
          "output_type": "stream",
          "name": "stdout",
          "text": [
            "請輸入月份5\n",
            "5 月是春天！\n"
          ]
        }
      ]
    },
    {
      "cell_type": "code",
      "source": [
        "收入=int(input(\"請輸入今年收入淨額：\"))\n",
        "if(收入>=300000):\n",
        "  if(收入>=300000 and 收入<600000):\n",
        "    print(\"收稅金額:\",收入*0.06,end=\"元\\n\")\n",
        "  elif(收入>=600000 and 收入<1000000):\n",
        "    print(\"收稅金額:\",收入*0.13,end=\"元\\n\")\n",
        "  elif(收入>=1000000 and 收入<2000000):\n",
        "    print(\"收稅金額:\",收入*0.21,end=\"元\\n\")\n",
        "  elif(收入>=2000000):\n",
        "    print(\"收稅金額:\",收入*0.03,end=\"元\\n\")\n",
        "  else:\n",
        "    print(\"收稅金額:0元\")\n",
        "\n"
      ],
      "metadata": {
        "colab": {
          "base_uri": "https://localhost:8080/"
        },
        "id": "tN9Y_0zANkMP",
        "outputId": "04590f0e-bcca-45bc-f683-4abf5295eca3"
      },
      "execution_count": 10,
      "outputs": [
        {
          "output_type": "stream",
          "name": "stdout",
          "text": [
            "請輸入今年收入淨額：2000000\n",
            "收稅金額: 60000.0元\n"
          ]
        }
      ]
    }
  ]
}